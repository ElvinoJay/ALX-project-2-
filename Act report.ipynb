{
 "cells": [
  {
   "cell_type": "markdown",
   "id": "d2d44e9a",
   "metadata": {},
   "source": [
    "\n",
    "WeRateDogs Twitter Analysis\n",
    "WeRateDogs is a Twitter account that posts and rates pictures of dogs. These ratings often are not serious and have numerators that are greater than the denominators. In my analysis, I examined WeRateDogs's archive through August 1, 2017. Most of the necessary Twitter data was provided by Udacity. In addition, Udacity ran the images on WeRateDogs's account through a neural network to generate three predictions for each image. After wrangling the data for original content with images, I wanted to answer the following questions:\n",
    "\n",
    "What is WeRateDogs's posting trend by month?\n",
    "What is the monthly trend of interactions with WeRateDogs's posts?\n",
    "What are the most popular dog breeds based on number of posts, interactions by Twitter users, and ratings?\n",
    "Is there any correlation between WeRateDogs's ratings and the interactions by Twitter users?\n",
    "Question 1: What is WeRateDogs's posting trend by month?\n",
    "The number of ratings on WeRateDogs has had a general downward trend by month since the account was first started, going from a peak of almost 300 tweets in one month down to around 50 in the latest months. There was a sharp decline only a few months after the account was created. However, this does not necessarily mean that the number of overall posts by the account has decreased, as my analysis only focused on original content with images. It is possible that the account has focused on other areas of content, such as retweets, videos, and interactions with followers.\n",
    "\n",
    "monthly_tweet_count\n",
    "\n",
    "Question 2: What is the monthly trend of interactions with WeRateDogs's posts?\n",
    "There has been a steady upward trend in the average retweets and favorites since the account was first started, going from almost no interaction to around 35,000 retweets and favorites per post in the latest months. This trend is encouraging given that the account's original purpose was to post images with ratings.\n",
    "\n",
    "monthly_tweet_activity\n",
    "\n",
    "Question 3: What are the most popular dog breeds based on number of posts, interactions by Twitter users, and ratings?\n",
    "For each view, I decided to look at the top 10. Here are the most popular dog breeds by the number of rating-related posts.\n",
    "\n",
    "top_10_by_count\n",
    "\n",
    "It is clear that golden retrievers are, by far, the most commonly posted breed by WeRateDogs. After golden retrievers, labrador retrievers, pembrokes, and chihuahuas also have larger counts compared to the rest of the top 10.\n",
    "\n",
    "For the most popular dog breeds by average tweet activity (defined as the sum of retweets and favorites), I decided only to include dogs that have had at least 10 posts, since only a few posts is not enough evidence to assess popularity.\n",
    "\n",
    "top_10_by_activity\n",
    "\n",
    "This visualization shows that French bulldogs have a large margin compared to the rest of the top 10 when it comes to the average tweet activity per post.\n",
    "\n",
    "Finally, here are the top 10 by average rating. Again, I narrowed down the dataset only to dog that have had at least 10 posts.\n",
    "\n",
    "top_10_by_rating\n",
    "\n",
    "There is not much difference between the top 10 when looking at average rating. This is to be expected given that the ratings are pretty arbitrary. However, this made me wonder if there was any correlation between ratings and interactions from Twitter users. I was skeptical, but I wanted to find out.\n",
    "\n",
    "Question 4: Is there any correlation between WeRateDogs's ratings and the interactions by Twitter users?\n",
    "I first looked at this question by breed, seeing if there was any correlation between the average ratings for each breed and the average tweet activity for each breed. Surprisingly, there appears to be a positive correlation. I found that the Pearson correlation coefficient is about 0.54, so it is moderately strong. This means that breeds with higher ratings tended to also have more tweet activity.\n",
    "\n",
    "scatter_by_breed\n",
    "\n",
    "Finally, I wanted to look at the correlation on a per-post basis. Again, this shows a positive correlation; the Pearson correlation coefficient is also moderately strong at 0.38. Posts with higher ratings tended to also have more tweet activity. However, this does not imply causation; one simple explanation is that ratings started out lower when the account was first created. As the account gained more following, WeRateDogs may have started posting ratings over 10 to cater to Twitter users. Or the opposite could be true, that WeRateDogs may have started getting more popular once the ratings became more outlandish.\n",
    "\n",
    "scatter_by_tweet"
   ]
  },
  {
   "cell_type": "code",
   "execution_count": null,
   "id": "4347db5c",
   "metadata": {},
   "outputs": [],
   "source": []
  }
 ],
 "metadata": {
  "kernelspec": {
   "display_name": "Python 3 (ipykernel)",
   "language": "python",
   "name": "python3"
  },
  "language_info": {
   "codemirror_mode": {
    "name": "ipython",
    "version": 3
   },
   "file_extension": ".py",
   "mimetype": "text/x-python",
   "name": "python",
   "nbconvert_exporter": "python",
   "pygments_lexer": "ipython3",
   "version": "3.9.7"
  }
 },
 "nbformat": 4,
 "nbformat_minor": 5
}
